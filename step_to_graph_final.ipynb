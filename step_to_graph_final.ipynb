{
 "cells": [
  {
   "cell_type": "markdown",
   "id": "88b91f12-8966-4284-bf36-a325dcf1a3ea",
   "metadata": {},
   "source": [
    "### Подключение библиотек"
   ]
  },
  {
   "cell_type": "code",
   "execution_count": 1,
   "id": "06466836-bb81-4153-afd0-45514f9b6e76",
   "metadata": {},
   "outputs": [],
   "source": [
    "import json\n",
    "import networkx as nx\n",
    "from collections import defaultdict"
   ]
  },
  {
   "cell_type": "markdown",
   "id": "0b259535-0f50-4225-9002-536a24b52965",
   "metadata": {},
   "source": [
    "### Загрузка обменного файла STEP (JSON)"
   ]
  },
  {
   "cell_type": "code",
   "execution_count": 2,
   "id": "9cc2dfe3-095c-4fe2-957d-b7c28a23302d",
   "metadata": {},
   "outputs": [],
   "source": [
    "# Открываем JSON-файл\n",
    "with open(\"STEP_product_structure_example.json\", \"r\", encoding=\"utf-8\") as file:\n",
    "    data = json.load(file)\n",
    "\n",
    "# Создаем пустой граф\n",
    "graph = nx.DiGraph()"
   ]
  },
  {
   "cell_type": "markdown",
   "id": "5cf266aa-e5f8-4387-b082-72c3565174f3",
   "metadata": {},
   "source": [
    "### Добавление всех объектов в массив, добавление нужных узлов в GraphML"
   ]
  },
  {
   "cell_type": "code",
   "execution_count": 3,
   "id": "eb3c3561-c4ed-4936-aa33-acf6309246bf",
   "metadata": {},
   "outputs": [
    {
     "name": "stdout",
     "output_type": "stream",
     "text": [
      "Добавлен узел (изделие) с id: #3 и label: АБВГ.123456.001 :: Прижим (версия EPS001)\n",
      "Добавлен узел (изделие) с id: #7 и label: АБВГ.123456.001-01 :: Набор стандартных изделий  (версия EPS004)\n",
      "Добавлен узел (изделие) с id: #11 и label:  Трубка ТВ-40,3, белая, 1 сорта ГОСТ 19034-82 :: Трубка (версия EPS008)\n",
      "Добавлен узел (изделие) с id: #17 и label:  Шайба 12.01.08кп.016ГОСТ10450-78 :: Шайба (версия 001)\n",
      "Добавлен узел (изделие) с id: #22 и label: АБВГ.715121.006 :: Ось (версия EPS005)\n",
      "Добавлен узел (изделие) с id: #29 и label: ЕКУЦ.301527.001 :: Петля (версия EPS003)\n",
      "Добавлен узел (организация) с id: #41 и label: ЕКУЦ :: АО «Организация002»\n"
     ]
    }
   ],
   "source": [
    "# Создаем словарь для поиска узлов по их id\n",
    "nodes = {}\n",
    "\n",
    "# Заполняем граф узлами и создаем соответствующие атрибуты\n",
    "for instance in data.get(\"instances\", []):\n",
    "    node_id = instance[\"id\"]\n",
    "    attributes = instance.get(\"attributes\", {})\n",
    "    entity_type = instance.get(\"type\", \"\")\n",
    "    nodes[node_id]= attributes\n",
    "    if entity_type== 'product_definition':\n",
    "        prd_name=''\n",
    "        attr_version_value = attributes.get(\"id\", \"\")\n",
    "        formation_ref= attributes.get(\"formation\", \"\")\n",
    "        if formation_ref:\n",
    "            formation_by_ref= nodes.get(formation_ref, \"\")\n",
    "            if formation_by_ref:\n",
    "                prd_ref= formation_by_ref.get('of_product', \"\")\n",
    "                if prd_ref:\n",
    "                    prd_by_ref= nodes.get(prd_ref, \"\")\n",
    "                    if prd_by_ref:\n",
    "                        attr_id_value = prd_by_ref.get(\"id\", \"\")\n",
    "                        attr_name_value = prd_by_ref.get(\"name\", \"\")\n",
    "                        prd_name=attr_id_value\n",
    "                        if attr_name_value:\n",
    "                            prd_name= f'{attr_id_value} :: {attr_name_value}'\n",
    "                        if attr_version_value:\n",
    "                            prd_name+=f' (версия {attr_version_value})'\n",
    "        print(f'Добавлен узел (изделие) с id: {node_id} и label: {prd_name}')\n",
    "        graph.add_node(node_id, label=prd_name, shape = \"ellipse\")\n",
    "    elif entity_type== 'organization':\n",
    "        org_name=''\n",
    "        attr_id_value = attributes.get(\"id\", \"\")\n",
    "        attr_name_value = attributes.get(\"name\", \"\")\n",
    "        org_name=attr_id_value\n",
    "        if attr_name_value:\n",
    "            org_name= f'{attr_id_value} :: {attr_name_value}'\n",
    "        print(f'Добавлен узел (организация) с id: {node_id} и label: {org_name}')\n",
    "        graph.add_node(node_id, label=org_name, shape=\"rectangle\")"
   ]
  },
  {
   "cell_type": "markdown",
   "id": "6b198bd4-3f3e-421d-99eb-e9c563c5df73",
   "metadata": {},
   "source": [
    "### Добавление связей между изделиями в GraphML как ребра графа"
   ]
  },
  {
   "cell_type": "code",
   "execution_count": 4,
   "id": "70fa9314-350b-4f56-9d2a-d3077c379b3d",
   "metadata": {},
   "outputs": [
    {
     "name": "stdout",
     "output_type": "stream",
     "text": [
      "Добавлено ребро графа (связь между изделиями) с parent_id=#3, child_id=#7, label=Состоит из, кол-во: 1 шт.\n",
      "Добавлено ребро графа (связь между изделиями) с parent_id=#7, child_id=#11, label=Состоит из, поз.5, кол-во: 0,4 м.\n",
      "Добавлено ребро графа (связь между изделиями) с parent_id=#7, child_id=#17, label=Состоит из, поз.3, кол-во: 4 шт.\n",
      "Добавлено ребро графа (связь между изделиями) с parent_id=#3, child_id=#22, label=Состоит из, поз.2, кол-во: 1 шт.\n",
      "Добавлено ребро графа (связь между изделиями) с parent_id=#3, child_id=#29, label=Состоит из, поз.1, кол-во: 1 шт.\n"
     ]
    }
   ],
   "source": [
    "levels={}\n",
    "def extract_product_structure_data(attributes):\n",
    "    position = attributes.get(\"reference_designator\", \"<не задана>\")\n",
    "    parent_id = attributes[\"relating_product_definition\"]\n",
    "    child_id = attributes[\"related_product_definition\"]\n",
    "    quantity_ref = attributes.get(\"quantity\")\n",
    "    \n",
    "    # Определяем количество элементов, если есть ссылка\n",
    "    quantity = \"?\"\n",
    "    if quantity_ref and isinstance(quantity_ref, str) and quantity_ref.startswith(\"#\"):\n",
    "        # Если quantity - это ссылка на другой объект\n",
    "        quantity=\"<не задано>\"\n",
    "        quantity_by_ref = nodes.get(quantity_ref, \"\")\n",
    "        if quantity_by_ref:\n",
    "            quantity_value= quantity_by_ref.get('value_component', \"-1\")\n",
    "            unit_ref= quantity_by_ref.get('unit_component', \"\")\n",
    "            quantity_uom_unit=None\n",
    "            if unit_ref:\n",
    "                unit_by_ref= nodes.get(unit_ref, \"\")\n",
    "                if unit_by_ref:\n",
    "                    quantity_uom_unit= unit_by_ref.get(\"id\", \"\")\n",
    "            quantity= quantity_value \n",
    "            if quantity_uom_unit:\n",
    "                quantity= f'{quantity_value} {quantity_uom_unit}'\n",
    "    elif quantity_ref:\n",
    "        # Если quantity - это непосредственно значение\n",
    "        quantity = quantity_ref\n",
    "    \n",
    "    # Добавляем ребро с подписью количества\n",
    "    label= f'Состоит из, поз.{position}, кол-во: {quantity}'\n",
    "    if not position:\n",
    "        label=f'Состоит из, кол-во: {quantity}'\n",
    "    print(f'Добавлено ребро графа (связь между изделиями) с parent_id={parent_id}, child_id={child_id}, label={label}')\n",
    "    graph.add_edge(parent_id, child_id, label=label)    \n",
    "\n",
    "    # Определяем уровни узлов\n",
    "    if parent_id not in levels:\n",
    "        levels[parent_id] = 0  # Корневой узел\n",
    "    levels[child_id] = levels[parent_id] + 1\n",
    "\n",
    "# Обрабатываем связи между изделиями, количество\n",
    "for instance in data.get(\"instances\", []):\n",
    "    attributes = instance.get(\"attributes\", {})\n",
    "    if \"relating_product_definition\" in attributes:\n",
    "        extract_product_structure_data(attributes)"
   ]
  },
  {
   "cell_type": "markdown",
   "id": "5cd10f16-eea9-4b8e-82ec-677885d94795",
   "metadata": {},
   "source": [
    "### Добавление организаций и их связей с изделиями"
   ]
  },
  {
   "cell_type": "code",
   "execution_count": 5,
   "id": "f67c2a02-783d-4369-81eb-4ceee3ca2851",
   "metadata": {},
   "outputs": [
    {
     "name": "stdout",
     "output_type": "stream",
     "text": [
      "Добавлено ребро графа (связь с организацией) с parent_id=#29, child_id=#41, label=Разработчик\n"
     ]
    }
   ],
   "source": [
    "def extract_organizations_data(attributes):\n",
    "    parent_id = attributes[\"assigned_product\"]\n",
    "    child_id = attributes[\"assigned_organization\"]\n",
    "    role = \"?\"\n",
    "    role_ref = attributes.get(\"role\", \"\")\n",
    "    if role_ref:\n",
    "        role_by_ref= nodes.get(role_ref, \"\")\n",
    "        if role_by_ref:\n",
    "            role= role_by_ref.get(\"name\", \"?\")\n",
    "    \n",
    "    # Добавляем ребро со ссылкой на организацию\n",
    "    print(f'Добавлено ребро графа (связь с организацией) с parent_id={parent_id}, child_id={child_id}, label={role}')\n",
    "    graph.add_edge(parent_id, child_id, label=role) \n",
    "\n",
    "    # Определяем уровни узлов\n",
    "    if parent_id not in levels:\n",
    "        levels[parent_id] = 0  # Корневой узел\n",
    "    levels[child_id] = levels[parent_id] + 1\n",
    "\n",
    "# Обрабатываем связи между изделиями, количество\n",
    "for instance in data.get(\"instances\", []):\n",
    "    attributes = instance.get(\"attributes\", {})\n",
    "    entity_type = instance.get(\"type\", \"\")\n",
    "    if entity_type==\"eskd_organization_product_assignment\":\n",
    "        extract_organizations_data(attributes)"
   ]
  },
  {
   "cell_type": "markdown",
   "id": "4fd67015-ec62-41a5-8692-860e92a61c5c",
   "metadata": {},
   "source": [
    "### Сохранение файла GraphML"
   ]
  },
  {
   "cell_type": "code",
   "execution_count": 6,
   "id": "a0c9e6b3-d58b-4425-af51-503f16fa818e",
   "metadata": {},
   "outputs": [
    {
     "name": "stdout",
     "output_type": "stream",
     "text": [
      "Граф успешно сохранён в example_product_structure.graphml\n"
     ]
    }
   ],
   "source": [
    "# Добавляем уровень иерархии в узлы графа\n",
    "for node, level in levels.items():\n",
    "    graph.nodes[node][\"hierarchical_level\"] =str(level)\n",
    "# сохраняем файл GraphML\n",
    "nx.write_graphml(graph, \"example_product_structure.graphml\")\n",
    "\n",
    "print(\"Граф успешно сохранён в example_product_structure.graphml\")"
   ]
  },
  {
   "cell_type": "code",
   "execution_count": null,
   "id": "18fe21c4-2b4e-4f60-976c-c6cb0b70b830",
   "metadata": {},
   "outputs": [],
   "source": []
  }
 ],
 "metadata": {
  "kernelspec": {
   "display_name": "Python 3 (ipykernel)",
   "language": "python",
   "name": "python3"
  },
  "language_info": {
   "codemirror_mode": {
    "name": "ipython",
    "version": 3
   },
   "file_extension": ".py",
   "mimetype": "text/x-python",
   "name": "python",
   "nbconvert_exporter": "python",
   "pygments_lexer": "ipython3",
   "version": "3.12.8"
  }
 },
 "nbformat": 4,
 "nbformat_minor": 5
}
